{
 "cells": [
  {
   "cell_type": "code",
   "execution_count": 1,
   "metadata": {},
   "outputs": [],
   "source": [
    "import pandas as pd\n",
    "import numpy as np\n",
    "#Please change the file path to \n",
    "\n",
    "df=pd.read_csv('D://HireArt.csv')\n",
    "df['Date of Contact']=pd.to_datetime(df['Date of Contact'])\n",
    "df.index=df['Date of Contact']"
   ]
  },
  {
   "cell_type": "markdown",
   "metadata": {},
   "source": [
    "# Grouping"
   ]
  },
  {
   "cell_type": "code",
   "execution_count": 2,
   "metadata": {},
   "outputs": [],
   "source": [
    "#grouping the values on the basis of year and month\n",
    "\n",
    "df1=df.groupby(by=[df.index.year ,df.index.month])"
   ]
  },
  {
   "cell_type": "code",
   "execution_count": 3,
   "metadata": {},
   "outputs": [],
   "source": [
    "#Calculating only unique clients\n",
    "\n",
    "df2=df1.agg({ \"Client Name\": pd.Series.nunique})\n",
    "\n",
    "df2.columns=['Number of Clients']\n",
    "df2['Percentage']=None #Adding new column for percentages\n",
    "\n",
    "\n",
    "df2.index.names=['Year','Month']\n"
   ]
  },
  {
   "cell_type": "code",
   "execution_count": 4,
   "metadata": {},
   "outputs": [],
   "source": [
    "#Total number of clients reached out in an year\n",
    "\n",
    "df3=df.groupby(by=[df.index.year])\n",
    "df3=df3.agg({ \"Client Name\": pd.Series.nunique})\n",
    "df3.index.names=['Year']\n",
    "df3=pd.DataFrame(df3)\n",
    "df3.columns=['Total Number of Clients']"
   ]
  },
  {
   "cell_type": "code",
   "execution_count": 5,
   "metadata": {},
   "outputs": [],
   "source": [
    "#Merging the two dataframe on the basis of year\n",
    "df_merged=df2.merge(df3,left_index=True,right_index=True)"
   ]
  },
  {
   "cell_type": "code",
   "execution_count": 6,
   "metadata": {},
   "outputs": [],
   "source": [
    "#Changing the type of columns suitable for performing calcualtions for percentages\n",
    "\n",
    "df_merged['Total Number of Clients']=df_merged['Total Number of Clients'].astype('int')\n",
    "df_merged['Number of Clients']=df_merged['Number of Clients'].astype('int')"
   ]
  },
  {
   "cell_type": "code",
   "execution_count": 7,
   "metadata": {},
   "outputs": [],
   "source": [
    "#Calculating Percentage\n",
    "df_merged['Percentage']=np.round( df_merged['Number of Clients']/df_merged['Total Number of Clients']*100,2)"
   ]
  },
  {
   "cell_type": "code",
   "execution_count": 8,
   "metadata": {},
   "outputs": [
    {
     "data": {
      "text/html": [
       "<div>\n",
       "<style scoped>\n",
       "    .dataframe tbody tr th:only-of-type {\n",
       "        vertical-align: middle;\n",
       "    }\n",
       "\n",
       "    .dataframe tbody tr th {\n",
       "        vertical-align: top;\n",
       "    }\n",
       "\n",
       "    .dataframe thead th {\n",
       "        text-align: right;\n",
       "    }\n",
       "</style>\n",
       "<table border=\"1\" class=\"dataframe\">\n",
       "  <thead>\n",
       "    <tr style=\"text-align: right;\">\n",
       "      <th></th>\n",
       "      <th></th>\n",
       "      <th>Number of Clients</th>\n",
       "      <th>Percentage</th>\n",
       "      <th>Total Number of Clients</th>\n",
       "    </tr>\n",
       "    <tr>\n",
       "      <th>Year</th>\n",
       "      <th>Month</th>\n",
       "      <th></th>\n",
       "      <th></th>\n",
       "      <th></th>\n",
       "    </tr>\n",
       "  </thead>\n",
       "  <tbody>\n",
       "    <tr>\n",
       "      <th>2013</th>\n",
       "      <th>10</th>\n",
       "      <td>31</td>\n",
       "      <td>88.57</td>\n",
       "      <td>35</td>\n",
       "    </tr>\n",
       "    <tr>\n",
       "      <th>2014</th>\n",
       "      <th>10</th>\n",
       "      <td>28</td>\n",
       "      <td>80.00</td>\n",
       "      <td>35</td>\n",
       "    </tr>\n",
       "    <tr>\n",
       "      <th>2015</th>\n",
       "      <th>10</th>\n",
       "      <td>28</td>\n",
       "      <td>80.00</td>\n",
       "      <td>35</td>\n",
       "    </tr>\n",
       "    <tr>\n",
       "      <th>2016</th>\n",
       "      <th>10</th>\n",
       "      <td>25</td>\n",
       "      <td>71.43</td>\n",
       "      <td>35</td>\n",
       "    </tr>\n",
       "    <tr>\n",
       "      <th>2017</th>\n",
       "      <th>9</th>\n",
       "      <td>21</td>\n",
       "      <td>60.00</td>\n",
       "      <td>35</td>\n",
       "    </tr>\n",
       "  </tbody>\n",
       "</table>\n",
       "</div>"
      ],
      "text/plain": [
       "            Number of Clients  Percentage  Total Number of Clients\n",
       "Year Month                                                        \n",
       "2013 10                    31       88.57                       35\n",
       "2014 10                    28       80.00                       35\n",
       "2015 10                    28       80.00                       35\n",
       "2016 10                    25       71.43                       35\n",
       "2017 9                     21       60.00                       35"
      ]
     },
     "execution_count": 8,
     "metadata": {},
     "output_type": "execute_result"
    }
   ],
   "source": [
    "#Finding the maximum percentage from the group\n",
    "df_merged=df_merged.loc[df_merged.groupby([ \"Year\"])[\"Percentage\"].idxmax()]   \n",
    "\n",
    "df_merged"
   ]
  },
  {
   "cell_type": "code",
   "execution_count": 9,
   "metadata": {},
   "outputs": [],
   "source": [
    "#Saving the final results to csv\n",
    "#Change the path where you want to save the file\n",
    "df_merged.to_csv('D:/Final_Precentages.csv')"
   ]
  },
  {
   "cell_type": "markdown",
   "metadata": {},
   "source": [
    "Visualizing the results we found"
   ]
  },
  {
   "cell_type": "code",
   "execution_count": 10,
   "metadata": {
    "collapsed": true
   },
   "outputs": [],
   "source": [
    "\n",
    "import matplotlib.pyplot as plt\n",
    "\n",
    "%matplotlib inline\n",
    "df_merged=df_merged.groupby(['Year','Month']).Percentage.max()"
   ]
  },
  {
   "cell_type": "code",
   "execution_count": 11,
   "metadata": {},
   "outputs": [
    {
     "data": {
      "image/png": "[encoded data removed]",
      "text/plain": [
       "<matplotlib.figure.Figure at 0x22d0d9e8160>"
      ]
     },
     "metadata": {},
     "output_type": "display_data"
    }
   ],
   "source": [
    "\n",
    "dateLabelsFig = df_merged.unstack().plot(kind='bar',stacked=True,  color=['green', 'red', 'red'], grid=False)\n",
    "plt.title('Maximum percentage per year',fontweight='bold')\n",
    "plt.xlabel('Year')\n",
    "plt.ylabel('Percentage');"
   ]
  },
  {
   "cell_type": "code",
   "execution_count": null,
   "metadata": {
    "collapsed": true
   },
   "outputs": [],
   "source": []
  }
 ],
 "metadata": {
  "celltoolbar": "Edit Metadata",
  "kernelspec": {
   "display_name": "Python 3",
   "language": "python",
   "name": "python3"
  },
  "language_info": {
   "codemirror_mode": {
    "name": "ipython",
    "version": 3
   },
   "file_extension": ".py",
   "mimetype": "text/x-python",
   "name": "python",
   "nbconvert_exporter": "python",
   "pygments_lexer": "ipython3",
   "version": "3.6.1"
  }
 },
 "nbformat": 4,
 "nbformat_minor": 2
}
